{
 "cells": [
  {
   "cell_type": "code",
   "execution_count": null,
   "id": "3b94679c-66de-4e85-b85c-7d3b257c9474",
   "metadata": {},
   "outputs": [],
   "source": [
    "from visualization import single_plane_graph_vis, handle_planes, plot_event\n",
    "from core.file import NuMLFile\n",
    "from IPython.display import clear_output"
   ]
  },
  {
   "cell_type": "code",
   "execution_count": null,
   "id": "91794a63-929e-4bf5-b6f3-794c424091f9",
   "metadata": {},
   "outputs": [],
   "source": [
    "fname = '/data/uboone/pandora/hdf5/numu_slice_x00.txt.h5'"
   ]
  },
  {
   "cell_type": "code",
   "execution_count": null,
   "id": "38a794ac-2afd-4d47-b7da-5823f1049775",
   "metadata": {},
   "outputs": [],
   "source": [
    "\"\"\"Process all events in a file into graphs\"\"\"\n",
    "f = NuMLFile(fname)\n",
    "evt = f.get_dataframe(\"event_table\", [\"event_id\"])\n",
    "hit = f.get_dataframe(\"hit_table\")\n",
    "part = f.get_dataframe(\"particle_table\", [\"event_id\", \"g4_id\", \"parent_id\", \"type\", \"momentum\", \"start_process\", \"end_process\"])\n",
    "edep = f.get_dataframe(\"edep_table\")\n",
    "sp = f.get_dataframe(\"spacepoint_table\")\n",
    "\n",
    "print_out = True\n",
    "write = False\n",
    "# loop over events in file\n",
    "count = 0\n",
    "for i,key in enumerate(evt.index): \n",
    "    planes = single_plane_graph_vis(key, hit, part, edep, sp)\n",
    "    if planes:\n",
    "        clear_output(wait=True)\n",
    "        plot_event(handle_planes(planes), print_out=print_out, write=write)\n",
    "        if print_out:\n",
    "            in_key = input(\"Press Enter to continue or type q to exit\")\n",
    "            if in_key == 'q': break"
   ]
  },
  {
   "cell_type": "code",
   "execution_count": null,
   "id": "c379779b-af01-4e21-afc6-9f92c78881f6",
   "metadata": {},
   "outputs": [],
   "source": []
  }
 ],
 "metadata": {
  "kernelspec": {
   "display_name": "Python 3",
   "language": "python",
   "name": "python3"
  },
  "language_info": {
   "codemirror_mode": {
    "name": "ipython",
    "version": 3
   },
   "file_extension": ".py",
   "mimetype": "text/x-python",
   "name": "python",
   "nbconvert_exporter": "python",
   "pygments_lexer": "ipython3",
   "version": "3.8.5"
  }
 },
 "nbformat": 4,
 "nbformat_minor": 5
}
